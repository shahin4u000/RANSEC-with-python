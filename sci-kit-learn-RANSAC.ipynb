{
 "cells": [
  {
   "cell_type": "code",
   "execution_count": 1,
   "metadata": {},
   "outputs": [],
   "source": [
    "import numpy as np\n",
    "from matplotlib import pyplot as plt\n",
    "import pandas as pd\n",
    "from sklearn import linear_model, datasets\n",
    "import math\n",
    "\n",
    "# getting data from a text file\n",
    "from sklearn.linear_model import RANSACRegressor\n",
    "# getting data from a text file\n",
    "df = pd.read_csv('scanData.txt',delimiter=',')\n",
    "angle = df.values[:,0]\n",
    "distance = df.values[:,1]\n",
    "cartesian = [(r*math.cos(phi*math.pi/180), r*math.sin(phi*math.pi/180)) for r, phi in zip(distance, angle)]\n",
    "x, y = map(list, zip(*cartesian))\n",
    "#print(x)\n",
    "\n",
    "\n",
    "# coverting this into 2d array\n",
    "x=  np.array(x)\n",
    "y=  np.array(y)\n",
    "\n",
    "x=x.reshape(-1, 1)\n",
    "y=y.reshape(-1, 1)\n"
   ]
  },
  {
   "cell_type": "code",
   "execution_count": 2,
   "metadata": {},
   "outputs": [
    {
     "ename": "NameError",
     "evalue": "name 'data' is not defined",
     "output_type": "error",
     "traceback": [
      "\u001b[1;31m---------------------------------------------------------------------------\u001b[0m",
      "\u001b[1;31mNameError\u001b[0m                                 Traceback (most recent call last)",
      "\u001b[1;32m<ipython-input-2-344543458fd1>\u001b[0m in \u001b[0;36m<module>\u001b[1;34m\u001b[0m\n\u001b[0;32m      9\u001b[0m \u001b[1;31m#line_y = lr.predict(line_X)\u001b[0m\u001b[1;33m\u001b[0m\u001b[1;33m\u001b[0m\u001b[1;33m\u001b[0m\u001b[0m\n\u001b[0;32m     10\u001b[0m \u001b[1;31m#print(np.column_stack([line_X, line_y]))\u001b[0m\u001b[1;33m\u001b[0m\u001b[1;33m\u001b[0m\u001b[1;33m\u001b[0m\u001b[0m\n\u001b[1;32m---> 11\u001b[1;33m \u001b[0mline_y_ransac\u001b[0m \u001b[1;33m=\u001b[0m \u001b[0mransac\u001b[0m\u001b[1;33m.\u001b[0m\u001b[0mpredict\u001b[0m\u001b[1;33m(\u001b[0m\u001b[0mdata\u001b[0m\u001b[1;33m)\u001b[0m\u001b[1;33m\u001b[0m\u001b[1;33m\u001b[0m\u001b[0m\n\u001b[0m\u001b[0;32m     12\u001b[0m \u001b[0mprint\u001b[0m\u001b[1;33m(\u001b[0m\u001b[0mline_y_ransac\u001b[0m\u001b[1;33m)\u001b[0m\u001b[1;33m\u001b[0m\u001b[1;33m\u001b[0m\u001b[0m\n\u001b[0;32m     13\u001b[0m plt.scatter(x,y, color='yellowgreen', marker='.',\n",
      "\u001b[1;31mNameError\u001b[0m: name 'data' is not defined"
     ]
    }
   ],
   "source": [
    "\n",
    "lr = linear_model.LinearRegression()\n",
    "lr.fit(x, y)\n",
    "ransac = RANSACRegressor(max_trials=1000,min_samples=300)\n",
    "ransac.fit(x, y)\n",
    "\n",
    "# Predict data of estimated models\n",
    "#line_X = np.arange(x.min(), x.max())[:, np.newaxis]\n",
    "#print(line_X.size)\n",
    "#line_y = lr.predict(line_X)\n",
    "#print(np.column_stack([line_X, line_y]))\n",
    "line_y_ransac = ransac.predict(data)\n",
    "print(line_y_ransac)\n",
    "plt.scatter(x,y, color='yellowgreen', marker='.',\n",
    "            label='Inliers')\n",
    "plt.plot( line_y_ransac, color='cornflowerblue', linewidth=1,\n",
    "         label='RANSAC regressor')\n",
    "plt.legend(loc='lower right')\n",
    "plt.xlabel(\"Input\")\n",
    "plt.ylabel(\"Response\")\n",
    "plt.show()"
   ]
  },
  {
   "cell_type": "code",
   "execution_count": null,
   "metadata": {},
   "outputs": [],
   "source": []
  }
 ],
 "metadata": {
  "kernelspec": {
   "display_name": "Python 3",
   "language": "python",
   "name": "python3"
  },
  "language_info": {
   "codemirror_mode": {
    "name": "ipython",
    "version": 3
   },
   "file_extension": ".py",
   "mimetype": "text/x-python",
   "name": "python",
   "nbconvert_exporter": "python",
   "pygments_lexer": "ipython3",
   "version": "3.7.4"
  }
 },
 "nbformat": 4,
 "nbformat_minor": 2
}