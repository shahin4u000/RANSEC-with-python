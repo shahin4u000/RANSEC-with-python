{
 "cells": [
  {
   "cell_type": "code",
   "execution_count": 5,
   "metadata": {},
   "outputs": [],
   "source": [
    "import numpy as np\n",
    "from matplotlib import pyplot as plt\n",
    "import pandas as pd\n",
    "from skimage.measure import ransac, LineModelND\n",
    "import math\n"
   ]
  },
  {
   "cell_type": "code",
   "execution_count": 7,
   "metadata": {},
   "outputs": [],
   "source": [
    "df = pd.read_csv('scanData.txt',delimiter=',')\n",
    "angle = df.values[:,0]\n",
    "distance = df.values[:,1]"
   ]
  },
  {
   "cell_type": "code",
   "execution_count": 9,
   "metadata": {},
   "outputs": [],
   "source": [
    "cartesian = [(r*math.cos(phi*math.pi/180), r*math.sin(phi*math.pi/180)) for r, phi in zip(distance, angle)]\n",
    "#print(x,y)\n",
    "x, y = map(list, zip(*cartesian))\n",
    "#print(cartesian)"
   ]
  },
  {
   "cell_type": "code",
   "execution_count": 11,
   "metadata": {},
   "outputs": [],
   "source": [
    "data = np.column_stack([y, x])\n",
    "#print(data)"
   ]
  },
  {
   "cell_type": "code",
   "execution_count": 20,
   "metadata": {},
   "outputs": [
    {
     "data": {
      "text/plain": [
       "True"
      ]
     },
     "execution_count": 20,
     "metadata": {},
     "output_type": "execute_result"
    }
   ],
   "source": [
    "model = LineModelND()\n",
    "model.estimate(data) "
   ]
  },
  {
   "cell_type": "code",
   "execution_count": 45,
   "metadata": {},
   "outputs": [
    {
     "name": "stdout",
     "output_type": "stream",
     "text": [
      "[False False False False False False False False False False False False\n",
      " False False False False False False False False False False False False\n",
      " False False False False False False False False False False False False\n",
      " False False False False False False False False False False False False\n",
      " False False False False False False False False False False False False\n",
      " False False False False False False False False False False False False\n",
      " False False False False False False False False False False False False\n",
      " False False False False False False False False False False False False\n",
      " False False False False False False False False False False False False\n",
      " False False False False False False False False False False False False\n",
      " False False False False False False False False False False False False\n",
      " False False False False False False False False False False False False\n",
      " False False False False False False False False False False False False\n",
      " False False False False False False False False False False False False\n",
      " False False False False False False False False False False False False\n",
      " False False False False False False False False False False False False\n",
      " False  True False False False False False False False False False False\n",
      " False False False False False False False False False False False False\n",
      " False False False False False False False False False False False False\n",
      " False False False False False False False False False False False False\n",
      " False False False False False False False False False False False False\n",
      " False False False False False False False False False False False False\n",
      " False False False False False False False False False False False False\n",
      " False False False False False False False False False False False False\n",
      " False False False False False False False False False False False False\n",
      " False False False False False False False False False False False False\n",
      " False False False False False False False False False False False False\n",
      " False False False False False False False False False False False False\n",
      " False False False False False False False False False False False False\n",
      " False False False False False False False False False False False False\n",
      " False False False False False False False False False False False False\n",
      " False False False False False False False False False False False False\n",
      " False False  True False False False False False False False False False\n",
      " False False False False False False False False False False False False\n",
      " False False False False False False False False False False False False\n",
      " False]\n"
     ]
    }
   ],
   "source": [
    "model_robust, inliers = ransac(data, LineModelND, min_samples=20,\n",
    "                               residual_threshold=2, max_trials=1000)\n",
    "\n",
    "print( inliers)\n"
   ]
  },
  {
   "cell_type": "code",
   "execution_count": 46,
   "metadata": {},
   "outputs": [
    {
     "name": "stdout",
     "output_type": "stream",
     "text": [
      "[-2242.22298884 -2246.53647447 -2250.8499601  -2255.16344574\n",
      " -2259.47693137 -2263.790417   -2268.10390263 -2272.41738826\n",
      " -2276.73087389 -2281.04435953 -2285.35784516 -2289.67133079\n",
      " -2293.98481642 -2298.29830205 -2302.61178768 -2306.92527332\n",
      " -2311.23875895 -2315.55224458 -2319.86573021 -2324.17921584\n",
      " -2328.49270147 -2332.8061871  -2337.11967274 -2341.43315837\n",
      " -2345.746644   -2350.06012963 -2354.37361526 -2358.68710089\n",
      " -2363.00058653 -2367.31407216 -2371.62755779 -2375.94104342\n",
      " -2380.25452905 -2384.56801468 -2388.88150032 -2393.19498595\n",
      " -2397.50847158 -2401.82195721 -2406.13544284 -2410.44892847\n",
      " -2414.76241411 -2419.07589974 -2423.38938537 -2427.702871\n",
      " -2432.01635663 -2436.32984226 -2440.6433279  -2444.95681353\n",
      " -2449.27029916 -2453.58378479 -2457.89727042 -2462.21075605\n",
      " -2466.52424169 -2470.83772732 -2475.15121295 -2479.46469858\n",
      " -2483.77818421 -2488.09166984 -2492.40515548 -2496.71864111\n",
      " -2501.03212674 -2505.34561237 -2509.659098   -2513.97258363\n",
      " -2518.28606926 -2522.5995549  -2526.91304053 -2531.22652616\n",
      " -2535.54001179 -2539.85349742 -2544.16698305 -2548.48046869\n",
      " -2552.79395432 -2557.10743995 -2561.42092558 -2565.73441121\n",
      " -2570.04789684 -2574.36138248 -2578.67486811 -2582.98835374\n",
      " -2587.30183937 -2591.615325   -2595.92881063 -2600.24229627\n",
      " -2604.5557819  -2608.86926753 -2613.18275316 -2617.49623879\n",
      " -2621.80972442 -2626.12321006 -2630.43669569 -2634.75018132\n",
      " -2639.06366695 -2643.37715258 -2647.69063821 -2652.00412385\n",
      " -2656.31760948 -2660.63109511 -2664.94458074 -2669.25806637\n",
      " -2673.571552   -2677.88503764 -2682.19852327 -2686.5120089\n",
      " -2690.82549453 -2695.13898016 -2699.45246579 -2703.76595143\n",
      " -2708.07943706 -2712.39292269 -2716.70640832 -2721.01989395\n",
      " -2725.33337958 -2729.64686521 -2733.96035085 -2738.27383648\n",
      " -2742.58732211 -2746.90080774 -2751.21429337 -2755.527779\n",
      " -2759.84126464 -2764.15475027 -2768.4682359  -2772.78172153\n",
      " -2777.09520716 -2781.40869279 -2785.72217843 -2790.03566406\n",
      " -2794.34914969 -2798.66263532 -2802.97612095 -2807.28960658\n",
      " -2811.60309222 -2815.91657785 -2820.23006348 -2824.54354911\n",
      " -2828.85703474 -2833.17052037 -2837.48400601 -2841.79749164\n",
      " -2846.11097727 -2850.4244629  -2854.73794853 -2859.05143416\n",
      " -2863.3649198  -2867.67840543 -2871.99189106 -2876.30537669\n",
      " -2880.61886232 -2884.93234795 -2889.24583359 -2893.55931922\n",
      " -2897.87280485 -2902.18629048 -2906.49977611 -2910.81326174\n",
      " -2915.12674737 -2919.44023301 -2923.75371864 -2928.06720427\n",
      " -2932.3806899  -2936.69417553 -2941.00766116 -2945.3211468\n",
      " -2949.63463243 -2953.94811806 -2958.26160369 -2962.57508932\n",
      " -2966.88857495 -2971.20206059 -2975.51554622 -2979.82903185\n",
      " -2984.14251748 -2988.45600311 -2992.76948874 -2997.08297438\n",
      " -3001.39646001 -3005.70994564 -3010.02343127 -3014.3369169\n",
      " -3018.65040253 -3022.96388817 -3027.2773738  -3031.59085943\n",
      " -3035.90434506 -3040.21783069 -3044.53131632 -3048.84480196\n",
      " -3053.15828759 -3057.47177322 -3061.78525885 -3066.09874448\n",
      " -3070.41223011 -3074.72571575 -3079.03920138 -3083.35268701\n",
      " -3087.66617264 -3091.97965827 -3096.2931439  -3100.60662954\n",
      " -3104.92011517 -3109.2336008  -3113.54708643 -3117.86057206\n",
      " -3122.17405769 -3126.48754332 -3130.80102896 -3135.11451459\n",
      " -3139.42800022 -3143.74148585 -3148.05497148 -3152.36845711\n",
      " -3156.68194275 -3160.99542838 -3165.30891401 -3169.62239964\n",
      " -3173.93588527 -3178.2493709  -3182.56285654 -3186.87634217\n",
      " -3191.1898278  -3195.50331343 -3199.81679906 -3204.13028469\n",
      " -3208.44377033 -3212.75725596 -3217.07074159 -3221.38422722\n",
      " -3225.69771285 -3230.01119848 -3234.32468412 -3238.63816975\n",
      " -3242.95165538 -3247.26514101 -3251.57862664 -3255.89211227\n",
      " -3260.20559791 -3264.51908354 -3268.83256917 -3273.1460548\n",
      " -3277.45954043 -3281.77302606 -3286.0865117  -3290.39999733\n",
      " -3294.71348296 -3299.02696859 -3303.34045422 -3307.65393985\n",
      " -3311.96742548 -3316.28091112 -3320.59439675 -3324.90788238\n",
      " -3329.22136801 -3333.53485364 -3337.84833927 -3342.16182491\n",
      " -3346.47531054 -3350.78879617 -3355.1022818  -3359.41576743\n",
      " -3363.72925306 -3368.0427387  -3372.35622433 -3376.66970996\n",
      " -3380.98319559 -3385.29668122 -3389.61016685 -3393.92365249\n",
      " -3398.23713812 -3402.55062375 -3406.86410938 -3411.17759501\n",
      " -3415.49108064 -3419.80456628 -3424.11805191 -3428.43153754\n",
      " -3432.74502317 -3437.0585088  -3441.37199443 -3445.68548007\n",
      " -3449.9989657  -3454.31245133 -3458.62593696 -3462.93942259\n",
      " -3467.25290822 -3471.56639386 -3475.87987949 -3480.19336512\n",
      " -3484.50685075 -3488.82033638 -3493.13382201 -3497.44730765\n",
      " -3501.76079328 -3506.07427891 -3510.38776454 -3514.70125017\n",
      " -3519.0147358  -3523.32822143 -3527.64170707 -3531.9551927\n",
      " -3536.26867833 -3540.58216396 -3544.89564959 -3549.20913522\n",
      " -3553.52262086 -3557.83610649 -3562.14959212 -3566.46307775\n",
      " -3570.77656338 -3575.09004901 -3579.40353465 -3583.71702028\n",
      " -3588.03050591 -3592.34399154 -3596.65747717 -3600.9709628\n",
      " -3605.28444844 -3609.59793407 -3613.9114197  -3618.22490533\n",
      " -3622.53839096 -3626.85187659 -3631.16536223 -3635.47884786\n",
      " -3639.79233349 -3644.10581912 -3648.41930475 -3652.73279038\n",
      " -3657.04627602 -3661.35976165 -3665.67324728 -3669.98673291\n",
      " -3674.30021854 -3678.61370417 -3682.92718981 -3687.24067544\n",
      " -3691.55416107 -3695.8676467  -3700.18113233 -3704.49461796\n",
      " -3708.80810359 -3713.12158923 -3717.43507486 -3721.74856049\n",
      " -3726.06204612 -3730.37553175 -3734.68901738 -3739.00250302\n",
      " -3743.31598865 -3747.62947428 -3751.94295991 -3756.25644554\n",
      " -3760.56993117 -3764.88341681 -3769.19690244 -3773.51038807\n",
      " -3777.8238737  -3782.13735933 -3786.45084496 -3790.7643306\n",
      " -3795.07781623 -3799.39130186 -3803.70478749 -3808.01827312\n",
      " -3812.33175875 -3816.64524439 -3820.95873002 -3825.27221565\n",
      " -3829.58570128 -3833.89918691 -3838.21267254 -3842.52615818\n",
      " -3846.83964381 -3851.15312944 -3855.46661507 -3859.7801007\n",
      " -3864.09358633 -3868.40707197 -3872.7205576  -3877.03404323\n",
      " -3881.34752886 -3885.66101449 -3889.97450012 -3894.28798575\n",
      " -3898.60147139 -3902.91495702 -3907.22844265 -3911.54192828\n",
      " -3915.85541391 -3920.16889954 -3924.48238518 -3928.79587081\n",
      " -3933.10935644 -3937.42284207 -3941.7363277  -3946.04981333\n",
      " -3950.36329897 -3954.6767846  -3958.99027023 -3963.30375586\n",
      " -3967.61724149 -3971.93072712 -3976.24421276 -3980.55769839\n",
      " -3984.87118402 -3989.18466965 -3993.49815528 -3997.81164091\n",
      " -4002.12512655 -4006.43861218 -4010.75209781 -4015.06558344\n",
      " -4019.37906907 -4023.6925547  -4028.00604034 -4032.31952597\n",
      " -4036.6330116  -4040.94649723 -4045.25998286 -4049.57346849\n",
      " -4053.88695413 -4058.20043976 -4062.51392539 -4066.82741102\n",
      " -4071.14089665 -4075.45438228 -4079.76786792 -4084.08135355\n",
      " -4088.39483918 -4092.70832481 -4097.02181044 -4101.33529607\n",
      " -4105.6487817  -4109.96226734 -4114.27575297 -4118.5892386\n",
      " -4122.90272423 -4127.21620986 -4131.52969549 -4135.84318113\n",
      " -4140.15666676 -4144.47015239 -4148.78363802 -4153.09712365\n",
      " -4157.41060928 -4161.72409492 -4166.03758055 -4170.35106618\n",
      " -4174.66455181 -4178.97803744 -4183.29152307 -4187.60500871\n",
      " -4191.91849434 -4196.23197997 -4200.5454656  -4204.85895123\n",
      " -4209.17243686 -4213.4859225  -4217.79940813 -4222.11289376\n",
      " -4226.42637939 -4230.73986502 -4235.05335065 -4239.36683629\n",
      " -4243.68032192 -4247.99380755 -4252.30729318 -4256.62077881\n",
      " -4260.93426444 -4265.24775008 -4269.56123571 -4273.87472134\n",
      " -4278.18820697 -4282.5016926  -4286.81517823 -4291.12866386\n",
      " -4295.4421495  -4299.75563513 -4304.06912076 -4308.38260639\n",
      " -4312.69609202 -4317.00957765 -4321.32306329 -4325.63654892\n",
      " -4329.95003455 -4334.26352018 -4338.57700581 -4342.89049144\n",
      " -4347.20397708 -4351.51746271 -4355.83094834 -4360.14443397\n",
      " -4364.4579196  -4368.77140523 -4373.08489087 -4377.3983765\n",
      " -4381.71186213 -4386.02534776 -4390.33883339 -4394.65231902]\n"
     ]
    }
   ],
   "source": [
    "outliers = inliers == False\n",
    "\n",
    "# generate coordinates of estimated models\n",
    "line_x = np.arange(-250, 250)\n",
    "line_y = model.predict_y(line_x)\n",
    "line_y_robust = model_robust.predict_y(line_x)\n",
    "print(line_y_robust)"
   ]
  },
  {
   "cell_type": "code",
   "execution_count": 47,
   "metadata": {},
   "outputs": [
    {
     "name": "stdout",
     "output_type": "stream",
     "text": [
      "[False False False False False False False False False False False False\n",
      " False False False False False False False False False False False False\n",
      " False False False False False False False False False False False False\n",
      " False False False False False False False False False False False False\n",
      " False False False False False False False False False False False False\n",
      " False False False False False False False False False False False False\n",
      " False False False False False False False False False False False False\n",
      " False False False False False False False False False False False False\n",
      " False False False False False False False False False False False False\n",
      " False False False False False False False False False False False False\n",
      " False False False False False False False False False False False False\n",
      " False False False False False False False False False False False False\n",
      " False False False False False False False False False False False False\n",
      " False False False False False False False False False False False False\n",
      " False False False False False False False False False False False False\n",
      " False False False False False False False False False False False False\n",
      " False  True False False False False False False False False False False\n",
      " False False False False False False False False False False False False\n",
      " False False False False False False False False False False False False\n",
      " False False False False False False False False False False False False\n",
      " False False False False False False False False False False False False\n",
      " False False False False False False False False False False False False\n",
      " False False False False False False False False False False False False\n",
      " False False False False False False False False False False False False\n",
      " False False False False False False False False False False False False\n",
      " False False False False False False False False False False False False\n",
      " False False False False False False False False False False False False\n",
      " False False False False False False False False False False False False\n",
      " False False False False False False False False False False False False\n",
      " False False False False False False False False False False False False\n",
      " False False False False False False False False False False False False\n",
      " False False False False False False False False False False False False\n",
      " False False  True False False False False False False False False False\n",
      " False False False False False False False False False False False False\n",
      " False False False False False False False False False False False False\n",
      " False]\n",
      "[-1505.27628025  3477.54056319]\n"
     ]
    },
    {
     "data": {
      "image/png": "[encoded data removed]",
      "text/plain": [
       "<Figure size 432x288 with 1 Axes>"
      ]
     },
     "metadata": {
      "needs_background": "light"
     },
     "output_type": "display_data"
    }
   ],
   "source": [
    "fig, ax = plt.subplots()\n",
    "print(inliers)\n",
    "print(data[inliers, 1])\n",
    "#a= np.array([1, 2, 3, 4, 5 ])\n",
    "#print(a[1,2])\n",
    "ax.plot(data[inliers, 0], data[inliers, 1], '.b', alpha=0.6,\n",
    "        label='Inlier data')\n",
    "ax.plot(data[outliers, 0], data[outliers, 1], '.r', alpha=0.6,\n",
    "        label='Outlier data')\n",
    "ax.plot(line_x, line_y, '-k', label='Line model from all data')\n",
    "ax.plot(line_x, line_y_robust, '-b', label='Robust line model')\n",
    "ax.legend(loc='lower left')\n",
    "plt.show()"
   ]
  },
  {
   "cell_type": "code",
   "execution_count": null,
   "metadata": {},
   "outputs": [],
   "source": []
  },
  {
   "cell_type": "code",
   "execution_count": null,
   "metadata": {},
   "outputs": [],
   "source": []
  }
 ],
 "metadata": {
  "kernelspec": {
   "display_name": "Python 3",
   "language": "python",
   "name": "python3"
  },
  "language_info": {
   "codemirror_mode": {
    "name": "ipython",
    "version": 3
   },
   "file_extension": ".py",
   "mimetype": "text/x-python",
   "name": "python",
   "nbconvert_exporter": "python",
   "pygments_lexer": "ipython3",
   "version": "3.7.4"
  }
 },
 "nbformat": 4,
 "nbformat_minor": 2
}
