{
 "cells": [
  {
   "cell_type": "code",
   "execution_count": 40,
   "metadata": {},
   "outputs": [
    {
     "name": "stdout",
     "output_type": "stream",
     "text": "hi\n"
    }
   ],
   "source": [
    "import numpy as np\n",
    "import matplotlib.pyplot as plt\n",
    "import pandas as pd\n",
    "import cv2 as cv\n",
    "# from skimage.measure import LineModelND, ransac\n",
    "from sklearn import linear_model, datasets\n",
    "from skimage.measure import ransac, LineModelND, CircleModel\n",
    "\n",
    "import math\n",
    "print('hi')"
   ]
  },
  {
   "cell_type": "code",
   "execution_count": 41,
   "metadata": {},
   "outputs": [
    {
     "name": "stdout",
     "output_type": "stream",
     "text": "<built-in method min of numpy.ndarray object at 0x000001C3D1ACC940> <built-in method max of numpy.ndarray object at 0x000001C3D1ACC940>\nhi\n"
    }
   ],
   "source": [
    "\n",
    "df = pd.read_csv('capture1.csv',delimiter=',')\n",
    "x = df.values[:,0]\n",
    "y = df.values[:,1]\n",
    "\n",
    "df = pd.read_csv('capture1.csv',delimiter=',')\n",
    "angle = df.values[:,0]\n",
    "distance = df.values[:,1]\n",
    "\n",
    "\n",
    "#print(data1)\n",
    "cartesian = [(r*math.cos(phi*math.pi/180), r*math.sin(phi*math.pi/180)) for r, phi in zip(distance, angle)]\n",
    "#print(x,y)\n",
    "x, y = map(list, zip(*cartesian))\n",
    "#print(cartesian)\n",
    "#plt.scatter(y,x)\n",
    "#plt.show()\n",
    "\n",
    "# coverting this into 2d array\n",
    "x=  np.array(x)\n",
    "y=  np.array(y)\n",
    "\n",
    "x=x.reshape(-1, 1)\n",
    "y=y.reshape(-1, 1)\n",
    "print(x.min, x.max)\n",
    "\n",
    "# generate coordinates of line\n",
    "#x = np.arange(-200, 200)\n",
    "\n",
    "#y = 0.2 * x + 20\n",
    "data = np.column_stack([x, y])\n",
    "#print(data)\n",
    "#print(data.shape)\n",
    "#img = np.zeros([100,100,3],dtype=np.uint8)\n",
    "#cv.imshow(\"data\",img)\n",
    "#cv.waitKey(10000)\n",
    "#cv.destroyAllWindows()\n",
    "print('hi')"
   ]
  },
  {
   "cell_type": "code",
   "execution_count": 39,
   "metadata": {},
   "outputs": [
    {
     "ename": "IndexError",
     "evalue": "index 1 is out of bounds for axis 1 with size 1",
     "output_type": "error",
     "traceback": [
      "\u001b[1;31m---------------------------------------------------------------------------\u001b[0m",
      "\u001b[1;31mIndexError\u001b[0m                                Traceback (most recent call last)",
      "\u001b[1;32m<ipython-input-39-9182c3cb2bf0>\u001b[0m in \u001b[0;36m<module>\u001b[1;34m\u001b[0m\n\u001b[0;32m     19\u001b[0m \u001b[0mline_x\u001b[0m \u001b[1;33m=\u001b[0m \u001b[0mnp\u001b[0m\u001b[1;33m.\u001b[0m\u001b[0marange\u001b[0m\u001b[1;33m(\u001b[0m\u001b[0mx\u001b[0m\u001b[1;33m.\u001b[0m\u001b[0mmin\u001b[0m\u001b[1;33m(\u001b[0m\u001b[1;33m)\u001b[0m\u001b[1;33m,\u001b[0m \u001b[0mx\u001b[0m\u001b[1;33m.\u001b[0m\u001b[0mmax\u001b[0m\u001b[1;33m(\u001b[0m\u001b[1;33m)\u001b[0m\u001b[1;33m)\u001b[0m\u001b[1;33m[\u001b[0m\u001b[1;33m:\u001b[0m\u001b[1;33m,\u001b[0m \u001b[0mnp\u001b[0m\u001b[1;33m.\u001b[0m\u001b[0mnewaxis\u001b[0m\u001b[1;33m]\u001b[0m\u001b[1;33m\u001b[0m\u001b[1;33m\u001b[0m\u001b[0m\n\u001b[0;32m     20\u001b[0m \u001b[0mline_y\u001b[0m \u001b[1;33m=\u001b[0m \u001b[0mmodel\u001b[0m\u001b[1;33m.\u001b[0m\u001b[0mpredict_x\u001b[0m\u001b[1;33m(\u001b[0m\u001b[0mline_x\u001b[0m\u001b[1;33m)\u001b[0m\u001b[1;33m\u001b[0m\u001b[1;33m\u001b[0m\u001b[0m\n\u001b[1;32m---> 21\u001b[1;33m \u001b[0mline_y_robust\u001b[0m \u001b[1;33m=\u001b[0m \u001b[0mmodel_robust\u001b[0m\u001b[1;33m.\u001b[0m\u001b[0mpredict_y\u001b[0m\u001b[1;33m(\u001b[0m\u001b[0mline_x\u001b[0m\u001b[1;33m)\u001b[0m\u001b[1;33m\u001b[0m\u001b[1;33m\u001b[0m\u001b[0m\n\u001b[0m\u001b[0;32m     22\u001b[0m \u001b[0mprint\u001b[0m\u001b[1;33m(\u001b[0m\u001b[0mline_y_robust\u001b[0m\u001b[1;33m)\u001b[0m\u001b[1;33m\u001b[0m\u001b[1;33m\u001b[0m\u001b[0m\n\u001b[0;32m     23\u001b[0m \u001b[1;33m\u001b[0m\u001b[0m\n",
      "\u001b[1;32mC:\\ProgramData\\Anaconda3\\lib\\site-packages\\skimage\\measure\\fit.py\u001b[0m in \u001b[0;36mpredict_y\u001b[1;34m(self, x, params)\u001b[0m\n\u001b[0;32m    212\u001b[0m \u001b[1;33m\u001b[0m\u001b[0m\n\u001b[0;32m    213\u001b[0m         \"\"\"\n\u001b[1;32m--> 214\u001b[1;33m         \u001b[0my\u001b[0m \u001b[1;33m=\u001b[0m \u001b[0mself\u001b[0m\u001b[1;33m.\u001b[0m\u001b[0mpredict\u001b[0m\u001b[1;33m(\u001b[0m\u001b[0mx\u001b[0m\u001b[1;33m,\u001b[0m \u001b[0maxis\u001b[0m\u001b[1;33m=\u001b[0m\u001b[1;36m0\u001b[0m\u001b[1;33m,\u001b[0m \u001b[0mparams\u001b[0m\u001b[1;33m=\u001b[0m\u001b[0mparams\u001b[0m\u001b[1;33m)\u001b[0m\u001b[1;33m[\u001b[0m\u001b[1;33m:\u001b[0m\u001b[1;33m,\u001b[0m \u001b[1;36m1\u001b[0m\u001b[1;33m]\u001b[0m\u001b[1;33m\u001b[0m\u001b[1;33m\u001b[0m\u001b[0m\n\u001b[0m\u001b[0;32m    215\u001b[0m         \u001b[1;32mreturn\u001b[0m \u001b[0my\u001b[0m\u001b[1;33m\u001b[0m\u001b[1;33m\u001b[0m\u001b[0m\n\u001b[0;32m    216\u001b[0m \u001b[1;33m\u001b[0m\u001b[0m\n",
      "\u001b[1;31mIndexError\u001b[0m: index 1 is out of bounds for axis 1 with size 1"
     ]
    }
   ],
   "source": [
    "#print(data1)\n",
    "theta=   np.radians(angle)\n",
    "#print(theta)\n",
    "data1 = np.column_stack([theta,distance])\n",
    "\n",
    "# ##########fit line using all data\n",
    "#model = CircleModel()\n",
    "#model.estimate(data1)    # estimate random data\n",
    "\n",
    "##############\n",
    "model = LineModelND()\n",
    "model.estimate(data)\n",
    "# robustly fit line only using inlier data with RANSAC algorithm\n",
    "model_robust, inliers = ransac(data, LineModelND, min_samples=20,\n",
    "                               residual_threshold=10, max_trials=1000)\n",
    "outliers = inliers == False\n",
    "\n",
    "# generate coordinates of estimated models\n",
    "line_x = np.arange(x.min(), x.max())[:, np.newaxis]\n",
    "line_y = model.predict_x(line_x)\n",
    "line_y_robust = model_robust.predict_y(line_x)\n",
    "print(line_y_robust)\n",
    "\n",
    "fig, ax = plt.subplots( projection='polar')\n",
    "ax.plot(data1[inliers, 0], data1[inliers, 1], '.b', alpha=0.6,label='Inlier data',projection='polar')\n",
    "\n",
    "ax = plt.subplot(111, projection='polar')\n",
    "ax.scatter(theta, distance)\n",
    "#ax.plot( line_y, '-k', label='Line model from all data')\n",
    "ax.plot( line_y_robust, '-b', label='Robust line model')\n",
    "#ax.legend(loc='lower left')\n",
    "#ax.show()"
   ]
  }
 ],
 "metadata": {
  "kernelspec": {
   "display_name": "Python 3.7.4 64-bit ('base': conda)",
   "language": "python",
   "name": "python37464bitbaseconda32b41cf3353d429b9d4508bb1d6b4372"
  },
  "language_info": {
   "codemirror_mode": {
    "name": "ipython",
    "version": 3
   },
   "file_extension": ".py",
   "mimetype": "text/x-python",
   "name": "python",
   "nbconvert_exporter": "python",
   "pygments_lexer": "ipython3",
   "version": "3.7.4-final"
  },
  "pycharm": {
   "stem_cell": {
    "cell_type": "raw",
    "metadata": {
     "collapsed": false
    },
    "source": []
   }
  }
 },
 "nbformat": 4,
 "nbformat_minor": 2
}