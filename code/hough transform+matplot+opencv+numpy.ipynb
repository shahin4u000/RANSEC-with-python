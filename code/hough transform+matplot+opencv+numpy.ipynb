{
 "cells": [
  {
   "cell_type": "code",
   "execution_count": 26,
   "metadata": {
    "pycharm": {
     "is_executing": false
    }
   },
   "outputs": [],
   "source": [
    "import cv2 as cv\n",
    "import numpy as np\n",
    "import pandas as pd\n",
    "import math\n",
    "import matplotlib.pyplot as plt\n",
    "\n",
    "%config IPCompleter.greedy=True"
   ]
  },
  {
   "cell_type": "code",
   "execution_count": 27,
   "metadata": {
    "pycharm": {
     "is_executing": false
    }
   },
   "outputs": [],
   "source": [
    "#read scanned data from text file\n",
    "\n",
    "df = pd.read_csv('scanData.txt',delimiter=',')\n",
    "x = df.values[:,0]\n",
    "y = df.values[:,1]\n",
    "#print(x,y)\n",
    "\n",
    "df = pd.read_csv('scanData.txt',delimiter=',')\n",
    "angle = df.values[:,0]\n",
    "#print(angle)\n",
    "distance = df.values[:,1]\n",
    "\n"
   ]
  },
  {
   "cell_type": "code",
   "execution_count": 28,
   "metadata": {
    "pycharm": {
     "is_executing": false
    }
   },
   "outputs": [],
   "source": [
    "#polar to cartesian converison\n",
    "cartesian = [(r*math.cos(phi*math.pi/180), r*math.sin(phi*math.pi/180)) for r, phi in zip(distance, angle)]\n"
   ]
  },
  {
   "cell_type": "code",
   "execution_count": 29,
   "metadata": {
    "pycharm": {
     "is_executing": false
    }
   },
   "outputs": [
    {
     "name": "stdout",
     "text": [
      "0.0\n"
     ],
     "output_type": "stream"
    }
   ],
   "source": [
    "#shift to all positive value\n",
    "x, y = map(list, zip(*cartesian))\n",
    "x=  np.array(x)\n",
    "y=  np.array(y)\n",
    "\n",
    "x+=  x.min()*-1\n",
    "y+=  y.min()*-1\n",
    "\n",
    "print(y.min())\n",
    "\n",
    "data = np.vstack([y, x])\n"
   ]
  },
  {
   "cell_type": "code",
   "execution_count": 30,
   "metadata": {
    "pycharm": {
     "is_executing": false
    }
   },
   "outputs": [
    {
     "data": {
      "text/plain": "<Figure size 432x288 with 1 Axes>",
      "image/png": "[encoded data removed]"
     },
     "metadata": {},
     "output_type": "display_data"
    }
   ],
   "source": [
    "###only for matplotLib\n",
    "\n",
    "#plt.scatter(y,x, color='yellowgreen', marker='.',label='Inliers')\n",
    "plt.scatter(y,x)\n",
    "\n",
    "###remove the axis tag from here\n",
    "plt.xticks([])\n",
    "plt.yticks([])\n",
    "\n",
    "\n",
    "#plt.scatter(y,x)\n",
    "plt.savefig('floor.png')\n",
    "plt.show()"
   ]
  },
  {
   "cell_type": "code",
   "execution_count": 17,
   "metadata": {
    "pycharm": {
     "is_executing": false
    }
   },
   "outputs": [
    {
     "traceback": [
      "\u001b[1;31m---------------------------------------------------------------------------\u001b[0m",
      "\u001b[1;31mNameError\u001b[0m                                 Traceback (most recent call last)",
      "\u001b[1;32m<ipython-input-17-4f20a7baa621>\u001b[0m in \u001b[0;36m<module>\u001b[1;34m\u001b[0m\n\u001b[0;32m      1\u001b[0m \u001b[1;31m### canny edge detection\u001b[0m\u001b[1;33m\u001b[0m\u001b[1;33m\u001b[0m\u001b[1;33m\u001b[0m\u001b[0m\n\u001b[0;32m      2\u001b[0m \u001b[1;33m\u001b[0m\u001b[0m\n\u001b[1;32m----> 3\u001b[1;33m \u001b[0mimage\u001b[0m \u001b[1;33m=\u001b[0m \u001b[0mcv\u001b[0m\u001b[1;33m.\u001b[0m\u001b[0mimread\u001b[0m\u001b[1;33m(\u001b[0m\u001b[1;34m'floor-edited.png'\u001b[0m\u001b[1;33m)\u001b[0m\u001b[1;33m\u001b[0m\u001b[1;33m\u001b[0m\u001b[0m\n\u001b[0m\u001b[0;32m      4\u001b[0m \u001b[0moriginal\u001b[0m \u001b[1;33m=\u001b[0m \u001b[0mimage\u001b[0m\u001b[1;33m.\u001b[0m\u001b[0mcopy\u001b[0m\u001b[1;33m(\u001b[0m\u001b[1;33m)\u001b[0m\u001b[1;33m\u001b[0m\u001b[1;33m\u001b[0m\u001b[0m\n\u001b[0;32m      5\u001b[0m \u001b[0mgray\u001b[0m \u001b[1;33m=\u001b[0m \u001b[0mcv\u001b[0m\u001b[1;33m.\u001b[0m\u001b[0mcvtColor\u001b[0m\u001b[1;33m(\u001b[0m\u001b[0mimage\u001b[0m\u001b[1;33m,\u001b[0m \u001b[0mcv\u001b[0m\u001b[1;33m.\u001b[0m\u001b[0mCOLOR_BGR2GRAY\u001b[0m\u001b[1;33m)\u001b[0m\u001b[1;33m\u001b[0m\u001b[1;33m\u001b[0m\u001b[0m\n",
      "\u001b[1;31mNameError\u001b[0m: name 'cv' is not defined"
     ],
     "ename": "NameError",
     "evalue": "name 'cv' is not defined",
     "output_type": "error"
    }
   ],
   "source": [
    "### canny edge detection\n",
    "\n",
    "image = cv.imread('floor.png')\n",
    "original = image.copy()\n",
    "gray = cv.cvtColor(image, cv.COLOR_BGR2GRAY)\n",
    "'''\n",
    "cv.imshow(\"gray\",gray)\n",
    "cv.waitKey(1000)\n",
    "cv.destroyAllWindows()\n",
    "'''\n",
    "canny = cv.Canny(gray,100,200)\n",
    "\n",
    "\n",
    "## creating mask to hide axis\n",
    "\n",
    "'''\n",
    "Here's a simple approach:\n",
    "\n",
    "Convert image to grayscale\n",
    "Color threshold to isolate green\n",
    "Find contours and fill in mask\n",
    "Bitwise-and to get result\n",
    "https://stackoverflow.com/questions/57940737/how-to-mask-everything-in-an-image-except-for-a-specific-color-inside\n",
    "'''\n",
    "\n",
    "lower = np.array([35, 0, 0], dtype=\"uint8\")\n",
    "upper = np.array([131, 255, 185], dtype=\"uint8\")\n",
    "mask = cv.inRange(image, lower, upper)\n",
    "\n",
    "cnts = cv.findContours(mask, cv.RETR_EXTERNAL, cv.CHAIN_APPROX_SIMPLE)\n",
    "cnts = cnts[0] if len(cnts) == 2 else cnts[1]\n",
    "cv.fillPoly(mask, cnts, (255,255,255))\n",
    "result = cv.bitwise_and(original,original,mask=mask)\n",
    "\n",
    "\n",
    "cv.imshow(\"result\",result)\n",
    "cv.waitKey(10000)\n",
    "cv.destroyAllWindows()\n",
    "###Hough transform\n",
    "\n",
    "#gray = cv.cvtColor(result,cv.COLOR_BGR2GRAY)\n",
    "#print(gray)\n",
    "edges = cv.Canny(gray,50,150,apertureSize = 3)\n",
    "minLineLength = 100\n",
    "maxLineGap = 10\n",
    "lines = cv.HoughLinesP(edges,1,np.pi/180,100,minLineLength,maxLineGap)\n",
    "\n",
    "for x1,y1,x2,y2 in lines[0]:\n",
    "    cv.line(image,(x1,y1),(x2,y2),(0,255,0),2)\n",
    "#cv.imwrite('houghlines5.jpg',image)\n",
    "\n",
    "\n",
    "cv.imshow(\"canny\",image)\n",
    "cv.waitKey(10000)\n",
    "cv.destroyAllWindows()"
   ]
  },
  {
   "cell_type": "code",
   "execution_count": 32,
   "metadata": {
    "pycharm": {
     "is_executing": false
    }
   },
   "outputs": [
    {
     "name": "stdout",
     "text": [
      "<built-in method min of numpy.ndarray object at 0x000002E450F3BD00> <built-in method max of numpy.ndarray object at 0x000002E450F3BD00>\n",
      "(2, 421)\n",
      "[[5164.28204391 5044.68793381 5102.23957869 5094.43950427 5091.19905887\n",
      "  5149.4145522  5123.39109922 5123.92598061 5119.01517193 5125.67862087\n",
      "  5129.85014289 5124.75651178 5132.01811499 5119.18681952 5146.25150965\n",
      "  5140.44827195 5133.1375509  5136.30187948 5140.83375222 5144.05368254\n",
      "  5136.95009644 5136.35457893 5133.21515885 5128.8248354  5130.54352208\n",
      "  5131.94884325 5135.54218444 5139.76093442 5136.62923368 5120.01424863\n",
      "  5126.30290158 5133.18050559 5123.41008631 5126.41731263 5124.00208824\n",
      "  5122.22955207 5122.41132091 5125.02302915 5121.32857809 5118.26866784\n",
      "  5111.67341559 5111.97651825 5125.55603499 5118.38121018 5074.39005959\n",
      "  4964.3718449  4890.25285765 4825.35744979 4763.76384694 5117.10638628\n",
      "  4458.73482733 3452.86646797 2692.43321023 2660.18567256 2630.98831078\n",
      "  2610.82972115 2588.84207779 2569.9499665  2552.4780184  2539.455988\n",
      "  2523.44726312 2512.71035829 2500.98514309 2491.23771493 2486.23067919\n",
      "  2484.26063847 2630.31673806 2612.28399534 2113.13346047 2205.75660868\n",
      "  2493.762783   1745.2339893  1935.30531135 1912.67455842 1891.0063876\n",
      "  1852.88574605 1829.10373611 1807.2000947  1784.46869332 1718.37746746\n",
      "  1695.48514309 1671.19237933 1650.85188831 1558.66179674 1624.70938933\n",
      "  1248.06606851  231.9809498   928.81459424  907.18240982  899.82104722\n",
      "   850.87741734  821.5248261   793.48133984  566.63442274  539.89905841\n",
      "   517.30081184  485.23886239  659.96592311  671.33683213 1438.68453142\n",
      "   691.02878523 1020.76473414  314.69796345  287.91613995  253.71253456\n",
      "   213.71989363  167.7808895   147.68542131  138.24971454  139.7740341\n",
      "   137.50622841  122.87966173  121.67860707  120.00934184  122.02682384\n",
      "   124.34713835  125.98508746  130.90650373  126.01695452  128.15821247\n",
      "   127.93222227  149.7540976   121.4748615   120.67876261   71.69992529\n",
      "   163.61743419  154.18620364  151.07028217  152.83699781  154.76190513\n",
      "   155.2753232   155.01592373  157.88728471  156.30184193  159.70075992\n",
      "   162.33219812  163.45746757  160.96709335  165.39002052  160.51140318\n",
      "   164.46657038  167.63058799  167.29188814  167.08577491  171.02190488\n",
      "   170.28826338  166.92402312  169.50675141  172.37254575  174.415964\n",
      "   176.72757958  174.28717319  172.08485164  173.95716469  173.11642171\n",
      "   173.40841697  173.93238303  179.56595005  179.48073856  177.56111463\n",
      "   178.83666112  179.2768126   181.91850539  179.73743869  180.74817661\n",
      "   183.92518384  186.29793322  181.84543409  181.48514309  184.57360745\n",
      "   176.84662396  183.29090796  182.92613562  184.72781393  185.72459223\n",
      "   185.88666578  183.26159139  185.77694265  185.51356533  189.37703722\n",
      "   182.54028463  188.7440856   187.24547812  188.85907395  188.72928098\n",
      "   185.79516708  188.99895239  187.43662467  188.0841081   186.91901273\n",
      "   186.99090867  189.13605167  195.40233486  190.20886284  189.16692156\n",
      "   193.04905029  187.65864396  190.99050245  188.91930706  188.88101594\n",
      "   191.03725721  192.37086262  203.41969809  200.07816268  208.10398952\n",
      "   197.96581117  203.70252563  200.49697554  203.98577392  202.2197222\n",
      "   200.87188919  193.5031791   202.41947812  199.16990262  195.52914374\n",
      "   195.5215933   199.38936941  195.71271433  197.62193533  195.47242338\n",
      "   192.18808405  198.19285213  192.34114182  196.50213048  200.33684678\n",
      "   199.48714745  194.46062326  193.63744985  199.66670452  200.37586331\n",
      "   200.16639012  198.65018178  189.03569633  192.17665334  192.57219414\n",
      "   191.52337408  209.85379582  211.32884755  210.11509927  209.90067231\n",
      "   215.94258841  217.47918297  217.89117145  214.06956752  220.28757886\n",
      "   220.99838418  225.8168304   361.79783298  224.71753061  228.14028526\n",
      "   229.6285248   227.46259825  223.36712027  223.77959582  517.14379355\n",
      "   230.80641074  233.58821024  239.80738069  235.79047879  239.48514309\n",
      "   242.3290902   240.01312834  244.28910317  242.36225724  244.16907502\n",
      "   246.54739393  261.55574451  297.88655151  338.24307817  379.71170732\n",
      "   417.64597637  488.88428084    0.           87.79550574  135.87328953\n",
      "   200.91442388  241.61444152  302.04763124  356.7429237   398.9911973\n",
      "   454.72329488  504.36122144  559.01071605  609.93954455  658.93696666\n",
      "   705.97074258  754.40570169  804.92349755  851.52441005  896.56294422\n",
      "   941.67840384  999.55382362 1046.98314776 1090.06788783 1304.95077597\n",
      "  1338.03090628 1371.49732353 1402.84095224 1436.54543139 1469.19791041\n",
      "  1501.69567118 1533.48208277 1566.02280139 1598.6737446  1631.10941735\n",
      "  1695.48514309 1727.43905462 1750.02235568 1875.41723544 1819.32058382\n",
      "  1842.76559206 1873.44705773 1900.68356185 2631.61983496 2659.48209954\n",
      "  2689.8234571  2728.38597593 2764.66832467 2812.88161512 2875.94371979\n",
      "  2908.59162369 2950.4206575  2989.10751092 3028.27209848 3062.23260156\n",
      "  3105.97564393 3143.09602618 3186.07462831 3227.5670418  3266.39394611\n",
      "  3309.68345158 3350.2550751  3392.48514309 3435.90621167 3473.32109881\n",
      "  3518.64753342 3562.06398249 3602.40141319 3648.87008239 3700.71309931\n",
      "  3743.7265973  3781.08375207 4875.65484823 4949.32894507 5022.89432122\n",
      "  5127.822176   4165.71792712 4229.32976125 4271.54924269 4313.19558243\n",
      "  4387.71212044 4440.53602786 4501.64512346 4581.18791711 4656.55711345\n",
      "  4722.19014412 4782.55781954 4859.14219534 4936.48786707 5008.09133484\n",
      "  5080.31498884 5151.87767044 5222.47921494 5210.42450839 5213.99988049\n",
      "  5206.86702722 5213.41981692 5220.45450834 5207.57601409 5196.54098038\n",
      "  5208.00730649 5200.12955895 5207.67773374 5193.87286032 5180.42175976\n",
      "  5180.96083982 5181.27088951 5180.37136792 5176.66868061 5176.96709001\n",
      "  5163.03779013 5162.81048998 5172.32731091 5178.9388712  5173.88172081\n",
      "  5175.70704531 5173.02570629 5165.43096043 5173.891583   5172.57522391\n",
      "  5162.55441682 5172.26145008 5162.01122117 5173.57436436 5137.57616381\n",
      "  5147.16699045 5151.7553726  5152.81903799 5164.14526699 5156.58487659\n",
      "  5167.9884886  5143.95002719 5163.17633232 5145.86105894 5166.2174484\n",
      "  5146.93999265 5140.00304787 5147.21535186 5162.99324145 5134.87423107\n",
      "  5150.79698369 5137.54041097 5152.6533747  5131.56323352 5134.92007334\n",
      "  5136.80433644 5135.3454356  5145.3801144  5136.10271042 2692.53526823\n",
      "  5135.63241222]\n",
      " [5548.60091827 5584.14332323 5659.80556928 5696.33420792 5733.63030714\n",
      "  5775.00973485 5810.96636916 5848.43332018 5886.00097536 5924.34024817\n",
      "  5963.20618822 6000.34239711 6039.99647215 6076.01197886 6119.52667291\n",
      "  6157.01550058 6194.85503703 6234.27586601 6274.87885595 6314.83956445\n",
      "  6353.18457488 6392.60842348 6432.20043989 6470.96113896 6512.29167057\n",
      "  6553.17585032 6595.70927718 6638.15718705 6679.17447528 6715.01545297\n",
      "  6759.77900165 6804.57789379 6844.11056317 6888.20304752 6931.20167587\n",
      "  6974.10780339 7018.9470652  7064.60614786 7108.56048775 7152.45583764\n",
      "  7195.74107941 7242.0997617  7296.64534575 7340.25549692 7364.79417378\n",
      "  7350.73210536 7355.56345837 7363.53973183 7372.9406819  7638.35024396\n",
      "  7631.3795156  7605.42896585 6870.72906116 6857.05338717 6847.1004426\n",
      "  6848.89203611 6848.06659495 6850.95571994 6856.27281444 6868.01489926\n",
      "  6875.50280396 6891.26596077 6906.23038386 6924.45011615 6952.40224475\n",
      "  6986.44890559 7515.81628329 7534.01201543 6460.24146221 6705.64456964\n",
      "  7438.27616318 5631.16779759 7498.64749103 7494.20585312 7494.44956373\n",
      "  7566.04424908 7549.68923854 7554.01127209 7549.12183039 7592.93759997\n",
      "  8224.06345837 7755.93202058 7556.57656577 7598.58432578 5830.31225269\n",
      "  6783.70526646 9532.00818271 7548.5975733  7538.18057406 7493.33857715\n",
      "  7489.30479592 7497.28936806 7502.29050191 7241.39638909 7240.52025196\n",
      "  7233.69246125 7239.47427182 6956.39523517 6907.82551296 5853.46299961\n",
      "  6820.09646985 6370.94796791 7231.48862807 7226.49649448 7229.30114428\n",
      "  7238.64782547 7253.0762923  7237.93259679 7210.48771971 7172.36985556\n",
      "  7138.54946489 7083.66893973 7051.1728659  7019.25343303 6985.02577728\n",
      "  6950.7461908  6918.30671217 6883.16209959 6857.68649585 6826.20690779\n",
      "  6797.74983835 6751.64378024 6746.5765637  6719.45489495 6729.34978204\n",
      "  6308.50331342 6292.33266884 6272.68458292 6251.17000466 6229.51450333\n",
      "  6209.08545709 6188.8861374  6167.85629168 6148.61405669 6127.82218623\n",
      "  6107.27403134 6087.83048365 6069.58235242 6049.29474313 6032.11683162\n",
      "  6012.36489463 5992.79414917 5974.78144973 5956.5512487  5937.56179991\n",
      "  5919.73873058 5902.96255571 5884.46799521 5866.34365175 5848.27637688\n",
      "  5830.56222718 5813.64854781 5796.9857415  5779.34989286 5762.5440265\n",
      "  5745.3334731  5728.42536478 5710.63800627 5693.98323706 5677.30317627\n",
      "  5660.57393335 5643.71449883 5626.99461571 5610.41081167 5593.8941434\n",
      "  5577.05959145 5560.60097504 5544.09119431 5511.06345837 5494.71318396\n",
      "  5477.926648   5461.69144971 5445.0237059  5428.71485552 5412.10852384\n",
      "  5395.70125785 5378.76104088 5362.50320281 5345.69467547 5329.6044453\n",
      "  5311.88048904 5296.08581842 5278.92317104 5262.45354747 5245.38174654\n",
      "  5227.98718537 5211.40472375 5194.09237754 5176.88069445 5159.45397282\n",
      "  5141.93726758 5125.13935343 5109.11748132 5090.21631257 5072.01173535\n",
      "  5055.44762563 5035.64758935 5018.73747258 4999.65326907 4981.39091418\n",
      "  4963.4892089  4945.48105072 4893.0297151  4872.60127237 4856.60008735\n",
      "  4832.703782   4815.43379954 4794.14339387 4775.53736653 4754.46952318\n",
      "  4733.01704507 4708.40588515 4691.9395849  4668.96506677 4645.06345837\n",
      "  4623.28063059 4603.21025659 4578.6265104  4556.81935394 4532.47118337\n",
      "  4506.59247707 4486.99715415 4458.55069766 4437.1053922  4414.7753703\n",
      "  4389.06078589 4359.28683468 4332.6176572  4310.54223872 4284.27731502\n",
      "  4256.34204426 4227.21412974 4160.82678861 4133.53502504 4103.67805704\n",
      "  4071.33327623 4025.43211109 3994.43427152 3959.42566786 3925.19846406\n",
      "  3896.42609075 3862.64167319 3826.19044981 3784.49666485 3752.99146141\n",
      "  3714.71583115 3679.89469206 3811.98189503 3594.32178822 3555.32214924\n",
      "  3511.88728439 3462.81791453 3359.47857115 3308.50045538 3705.5586359\n",
      "  3211.97837708 3160.59938552 3112.18074926 3045.80150737 2989.19748255\n",
      "  2930.02074544 2858.0882956  2796.63643711 2719.64036635 2647.88660903\n",
      "  2572.90835711 2522.23902727 2513.90360664 2516.26163234 2520.74085608\n",
      "  2519.5527925  2598.07129236 1151.13064586 1240.6649957  1226.06510758\n",
      "  1262.26664453 1228.09848266 1255.38303092 1265.11559364 1238.43798349\n",
      "  1254.20240402 1253.54483794 1269.68315513 1277.00727623 1275.04069191\n",
      "  1268.9416719  1266.12841941 1277.72246625 1268.18633534 1254.38819237\n",
      "  1236.01300254 1298.15714579 1297.67833924 1273.08859447 2544.66043314\n",
      "  2548.5505945  2552.75179582 2542.45294542 2551.36901034 2556.71698439\n",
      "  2554.40746881 2548.48957601 2545.88833671 2561.65189788 2560.76571645\n",
      "  2552.06345837 2558.23634735 3011.65839067    0.         2674.7655573\n",
      "  2809.07447442 2795.88932823 2825.89258691 2650.33770453 2671.22000001\n",
      "  2682.76090784 2673.19174359 2669.55975008 2637.68319737 2570.13187999\n",
      "  2582.36534031 2571.75182898 2571.08298743 2568.85698507 2580.06407509\n",
      "  2569.7779321  2575.59897533 2569.13433166 2567.96151388 2571.48278545\n",
      "  2568.76846621 2570.72122112 2571.77323792 2570.51529449 2581.28047757\n",
      "  2578.60921346 2581.12157561 2588.09059862 2587.61630151 2579.20997574\n",
      "  2585.87150821 2600.07746695 1366.58560869 1364.2645107  1365.19754624\n",
      "  1328.00435138 2567.15466346 2556.86382885 2573.62533055 2590.50254379\n",
      "  2573.01327118 2579.68978037 2579.71050033 2625.36068434 2613.39167117\n",
      "  2613.62375464 2619.19861189 2612.10587749 2605.11949071 2605.98579704\n",
      "  2606.83775857 2610.80576346 2616.01910341 2690.02636923 2749.21932035\n",
      "  2816.68537357 2871.64313741 2926.44898537 2993.87083287 3059.5977694\n",
      "  3107.78984689 3169.33492619 3218.87254001 3282.34468294 3343.56887295\n",
      "  3396.02488485 3447.11124717 3499.06345837 3551.11800553 3601.05705699\n",
      "  3657.22888105 3706.08812923 3748.68650094 3793.21418556 3842.25512663\n",
      "  3888.20933328 3935.04453991 3984.25075711 4070.26033551 4114.69188536\n",
      "  4162.79395595 4202.15111939 4249.35114964 4287.59937272 4342.63100199\n",
      "  4380.87921472 4421.30564096 4461.96320615 4500.04123067 4542.75326284\n",
      "  4580.60899122 4626.9311475  4662.52482276 4706.23115327 4741.62063082\n",
      "  4784.98603724 4825.90624745 4863.21890458 4899.6482248  4942.90969263\n",
      "  4979.24010025 5019.34755167 5055.9186261  5096.4692514  5134.38407138\n",
      "  5171.81987406 5210.11467866 5246.81984545 5285.55346878 5467.53130978\n",
      "  5398.14416538]]\n"
     ],
     "output_type": "stream"
    }
   ],
   "source": [
    "###### coverting this into 2d array\n",
    "\n",
    "#x=x.reshape( 1,-1)\n",
    "\n",
    "#print(x)\n",
    "#y=y.reshape(1,-1)\n",
    "print(x.min, x.max)\n",
    "\n",
    "# generate coordinates of line\n",
    "#x = np.arange(-200, 200)\n",
    "\n",
    "#y = 0.2 * x + 20\n",
    "data = np.vstack([x, y])\n",
    "print(data.shape)\n",
    "print(data)\n",
    "img = np.zeros([100,100,3],dtype=np.uint8)\n",
    "cv.imshow(\"data\",data)\n",
    "cv.waitKey(1000)\n",
    "cv.destroyAllWindows()"
   ]
  },
  {
   "cell_type": "code",
   "execution_count": null,
   "metadata": {
    "pycharm": {
     "name": "#%% houghlineP is implementing here\n",
     "is_executing": true
    }
   },
   "outputs": [],
   "source": [
    "import cv2\n",
    "import numpy as np\n",
    "\n",
    "image = cv2.imread('floor-edited.png')\n",
    "gray = cv2.cvtColor(image, cv2.COLOR_BGR2GRAY)\n",
    "thresh = cv2.threshold(gray, 0, 255,cv2.THRESH_BINARY_INV + cv2.THRESH_OTSU)[1]\n",
    "\n",
    "kernel = cv2.getStructuringElement(cv2.MORPH_ELLIPSE, (9,9))\n",
    "close = cv2.morphologyEx(thresh, cv2.MORPH_CLOSE, kernel, iterations=3)\n",
    "\n",
    "minLineLength = 750\n",
    "maxLineGap = 58\n",
    "lines = cv2.HoughLinesP(close,1,np.pi/180,100,minLineLength,maxLineGap)\n",
    "for line in lines:\n",
    "    for x1,y1,x2,y2 in line:\n",
    "        cv2.line(image,(x1,y1),(x2,y2),(36,255,12),3)\n",
    "\n",
    "cv2.imshow('thresh', thresh)\n",
    "cv2.imshow('close', close)\n",
    "cv2.imshow('image', image)\n",
    "cv2.waitKey()\n",
    "cv2.destroyAllWindows()"
   ]
  },
  {
   "cell_type": "code",
   "execution_count": 10,
   "outputs": [],
   "source": [
    "#Import packages\n",
    "import os\n",
    "import cv2\n",
    "import numpy as np\n",
    "#import tensorflow as tf\n",
    "import sys\n",
    "\n",
    "# This is needed since the notebook is stored in the object_detection folder.\n",
    "sys.path.append(\"..\")\n",
    "\n",
    "# Import utilites\n",
    "#from utils import label_map_util\n",
    "#from utils import visualization_utils as vis_util\n",
    "\n",
    "# Name of the directory containing the object detection module we're using\n",
    "#MODEL_NAME = 'inference_graph'\n",
    "IMAGE_NAME = 'floor.png'\n",
    "#Remove Small Items\n",
    "im_gray = cv2.imread(IMAGE_NAME, cv2.IMREAD_GRAYSCALE)\n",
    "(thresh, im_bw) = cv2.threshold(im_gray, 128, 255, cv2.THRESH_BINARY | cv2.THRESH_OTSU)\n",
    "thresh = 127\n",
    "im_bw = cv2.threshold(im_gray, thresh, 255, cv2.THRESH_BINARY)[1]\n",
    "#find all your connected components \n",
    "nb_components, output, stats, centroids = cv2.connectedComponentsWithStats(im_bw, connectivity=8)\n",
    "#connectedComponentswithStats yields every seperated component with information on each of them, such as size\n",
    "#the following part is just taking out the background which is also considered a component, but most of the time we don't want that.\n",
    "sizes = stats[1:, -1]; nb_components = nb_components - 1\n",
    "\n",
    "# minimum size of particles we want to keep (number of pixels)\n",
    "#here, it's a fixed value, but you can set it as you want, eg the mean of the sizes or whatever\n",
    "min_size = 150  \n",
    "\n",
    "#your answer image\n",
    "img2 = np.zeros((output.shape))\n",
    "#for every component in the image, you keep it only if it's above min_size\n",
    "for i in range(0, nb_components):\n",
    "    if sizes[i] >= min_size:\n",
    "        img2[output == i + 1] = 255\n",
    "\n",
    "cv2.imshow('room detector', img2)\n",
    "#MorphologicalTransform\n",
    "kernel = np.ones((5, 5), np.uint8)\n",
    "dilation = cv2.dilate(img2, kernel)\n",
    "erosion = cv2.erode(img2, kernel, iterations=6)\n",
    "\n",
    "#cv2.imshow(\"img2\", img2)\n",
    "cv2.imshow(\"Dilation\", dilation)\n",
    "#cv2.imwrite(\"Dilation.jpg\", dilation)\n",
    "#cv2.imshow(\"Erosion\", erosion)\n",
    "image = dilation\n",
    "#image = cv2.imread('floortest2.PNG')\n",
    "gray = cv2.cvtColor(image, cv2.COLOR_BGR2GRAY)\n",
    "#thresh = cv2.threshold(gray, 0, 255,cv2.THRESH_BINARY_INV + cv2.THRESH_OTSU)[1]\n",
    "\n",
    "#kernel = cv2.getStructuringElement(cv2.MORPH_ELLIPSE, (9,9))\n",
    "#close = cv2.morphologyEx(thresh, cv2.MORPH_CLOSE, kernel, iterations=3)\n",
    "\n",
    "minLineLength = 550\n",
    "maxLineGap = 60\n",
    "lines = cv2.HoughLinesP(close,1,np.pi/180,100,minLineLength,maxLineGap)\n",
    "for line in lines:\n",
    "    for x1,y1,x2,y2 in line:\n",
    "        cv2.line(image,(x1,y1),(x2,y2),(36,255,12),3)\n",
    "\n",
    "cv2.imshow('thresh', thresh)\n",
    "cv2.imshow('close', close)\n",
    "cv2.imshow('image', image)\n",
    "cv2.waitKey(10000)\n",
    "cv2.destroyAllWindows()\n",
    "# Press any key to close the image\n",
    "cv2.waitKey(0)\n",
    "\n",
    "# Clean up\n",
    "cv2.destroyAllWindows()"
   ],
   "metadata": {
    "collapsed": false,
    "pycharm": {
     "name": "#%%\n",
     "is_executing": false
    }
   }
  },
  {
   "cell_type": "code",
   "execution_count": 34,
   "metadata": {
    "scrolled": true,
    "pycharm": {
     "is_executing": false
    }
   },
   "outputs": [
    {
     "traceback": [
      "\u001b[1;31m---------------------------------------------------------------------------\u001b[0m",
      "\u001b[1;31mNameError\u001b[0m                                 Traceback (most recent call last)",
      "\u001b[1;32m<ipython-input-34-0d08b4e34533>\u001b[0m in \u001b[0;36m<module>\u001b[1;34m\u001b[0m\n\u001b[1;32m----> 1\u001b[1;33m \u001b[0mmodel\u001b[0m \u001b[1;33m=\u001b[0m \u001b[0mLineModelND\u001b[0m\u001b[1;33m(\u001b[0m\u001b[1;33m)\u001b[0m\u001b[1;33m\u001b[0m\u001b[1;33m\u001b[0m\u001b[0m\n\u001b[0m\u001b[0;32m      2\u001b[0m \u001b[0mmodel\u001b[0m\u001b[1;33m.\u001b[0m\u001b[0mestimate\u001b[0m\u001b[1;33m(\u001b[0m\u001b[0mdata\u001b[0m\u001b[1;33m)\u001b[0m\u001b[1;33m\u001b[0m\u001b[1;33m\u001b[0m\u001b[0m\n\u001b[0;32m      3\u001b[0m \u001b[0mx1\u001b[0m\u001b[1;33m=\u001b[0m \u001b[0mnp\u001b[0m\u001b[1;33m.\u001b[0m\u001b[0marange\u001b[0m\u001b[1;33m(\u001b[0m\u001b[1;36m100\u001b[0m\u001b[1;33m,\u001b[0m\u001b[1;36m100\u001b[0m\u001b[1;33m)\u001b[0m\u001b[1;33m\u001b[0m\u001b[1;33m\u001b[0m\u001b[0m\n\u001b[0;32m      4\u001b[0m \u001b[1;33m\u001b[0m\u001b[0m\n\u001b[0;32m      5\u001b[0m \u001b[0mfig\u001b[0m\u001b[1;33m,\u001b[0m\u001b[0max\u001b[0m \u001b[1;33m=\u001b[0m \u001b[0mplt\u001b[0m\u001b[1;33m.\u001b[0m\u001b[0msubplots\u001b[0m\u001b[1;33m(\u001b[0m\u001b[1;33m)\u001b[0m\u001b[1;33m\u001b[0m\u001b[1;33m\u001b[0m\u001b[0m\n",
      "\u001b[1;31mNameError\u001b[0m: name 'LineModelND' is not defined"
     ],
     "ename": "NameError",
     "evalue": "name 'LineModelND' is not defined",
     "output_type": "error"
    }
   ],
   "source": [
    "model = LineModelND()\n",
    "model.estimate(data)\n",
    "x1= np.arange(100,100)\n",
    "\n",
    "fig,ax = plt.subplots()\n",
    "\n",
    "print(model.params)\n",
    "ax.plot(data[:,0], data[:,1], '.r')\n",
    "ax.plot(x1, model.predict_y(x1))\n"
   ]
  },
  {
   "cell_type": "code",
   "execution_count": null,
   "metadata": {
    "pycharm": {
     "is_executing": false
    }
   },
   "outputs": [],
   "source": [
    "\n",
    "\n",
    "ax.plot(x1, model.predict_y(x1), '-b')\n",
    "mode_robust, inliers = ransac (data, LineModelND, min_samples= 2, \n",
    "                               residual_threshold=2,\n",
    "                               \n",
    "                               \n",
    "                               max_trials=1500)\n",
    "\n",
    "outliers= (inliers== False)\n",
    "print(data)\n",
    "print(data[inliers])\n",
    "x= mode_robust.predict_y(x1)\n",
    "ax.plot(x1, x, '-y')\n"
   ]
  },
  {
   "cell_type": "code",
   "execution_count": null,
   "metadata": {
    "pycharm": {
     "is_executing": false
    }
   },
   "outputs": [],
   "source": [
    "from PIL import Image\n",
    "import numpy as np\n",
    "\n",
    "w, h = 512, 512\n",
    "data = np.zeros((h, w, 3), dtype=np.uint8)\n",
    "data[0:256, 0:256] = [255, 0, 0] # red patch in upper left\n",
    "img = Image.fromarray(data, 'RGB')\n",
    "img.save('my.png')\n",
    "img.show()"
   ]
  },
  {
   "cell_type": "code",
   "execution_count": null,
   "metadata": {
    "pycharm": {
     "is_executing": false
    }
   },
   "outputs": [],
   "source": []
  },
  {
   "cell_type": "code",
   "execution_count": null,
   "metadata": {
    "pycharm": {
     "is_executing": false
    }
   },
   "outputs": [],
   "source": []
  }
 ],
 "metadata": {
  "kernelspec": {
   "display_name": "Python 3",
   "language": "python",
   "name": "python3"
  },
  "language_info": {
   "codemirror_mode": {
    "name": "ipython",
    "version": 3
   },
   "file_extension": ".py",
   "mimetype": "text/x-python",
   "name": "python",
   "nbconvert_exporter": "python",
   "pygments_lexer": "ipython3",
   "version": "3.7.4"
  },
  "pycharm": {
   "stem_cell": {
    "cell_type": "raw",
    "source": [],
    "metadata": {
     "collapsed": false
    }
   }
  }
 },
 "nbformat": 4,
 "nbformat_minor": 2
}