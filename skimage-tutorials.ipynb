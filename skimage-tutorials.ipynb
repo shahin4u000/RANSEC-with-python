{
 "cells": [
  {
   "cell_type": "code",
   "execution_count": 1,
   "metadata": {
    "collapsed": true,
    "pycharm": {
     "is_executing": false
    }
   },
   "outputs": [
    {
     "traceback": [
      "\u001b[0;31m---------------------------------------------------------------------------\u001b[0m",
      "\u001b[0;31mModuleNotFoundError\u001b[0m                       Traceback (most recent call last)",
      "\u001b[0;32m<ipython-input-1-66b89171bf43>\u001b[0m in \u001b[0;36m<module>\u001b[0;34m\u001b[0m\n\u001b[1;32m      3\u001b[0m \u001b[0;34m\u001b[0m\u001b[0m\n\u001b[1;32m      4\u001b[0m \u001b[0;32mimport\u001b[0m \u001b[0mmath\u001b[0m\u001b[0;34m\u001b[0m\u001b[0;34m\u001b[0m\u001b[0m\n\u001b[0;32m----> 5\u001b[0;31m \u001b[0;32mimport\u001b[0m \u001b[0mcv2\u001b[0m\u001b[0;34m\u001b[0m\u001b[0;34m\u001b[0m\u001b[0m\n\u001b[0m\u001b[1;32m      6\u001b[0m \u001b[0;32mimport\u001b[0m \u001b[0mcsv\u001b[0m\u001b[0;34m,\u001b[0m \u001b[0msys\u001b[0m\u001b[0;34m\u001b[0m\u001b[0;34m\u001b[0m\u001b[0m\n\u001b[1;32m      7\u001b[0m \u001b[0;32mimport\u001b[0m \u001b[0mnumpy\u001b[0m \u001b[0;32mas\u001b[0m \u001b[0mnp\u001b[0m\u001b[0;34m\u001b[0m\u001b[0;34m\u001b[0m\u001b[0m\n",
      "\u001b[0;31mModuleNotFoundError\u001b[0m: No module named 'cv2'"
     ],
     "ename": "ModuleNotFoundError",
     "evalue": "No module named 'cv2'",
     "output_type": "error"
    }
   ],
   "source": [
    "#!/usr/bin/env python3\n",
    "# Skinny Triangle Formula: https://en.wikipedia.org/wiki/Skinny_triangle\n",
    "\n",
    "import math\n",
    "import cv2\n",
    "import csv, sys\n",
    "import numpy as np\n",
    "import matplotlib.pyplot as plt\n",
    "\n",
    "if __name__ == '__main__':\n",
    "\n",
    "    # Pick up name of file to analyze\n",
    "    if len(sys.argv) != 2:\n",
    "        print('Usage: analyse data.csv')\n",
    "        sys.exit(1)\n",
    "\n",
    "    # Load values, expected format is:\n",
    "    # theta,range\n",
    "    # where theta is in degrees and range is in mm\n",
    "    Thetas = []\n",
    "    Ranges = []\n",
    "    maxRange = 0\n",
    "    filename = sys.argv[1]\n",
    "    with open(filename) as csvfile:\n",
    "        csv_reader = csv.reader(csvfile, delimiter=',')\n",
    "        for row in csv_reader:\n",
    "            theta = float(row[0])\n",
    "            r = float(row[1])\n",
    "            print(f'DEBUG: theta: {theta}, range: {r}')\n",
    "            if r> maxRange:\n",
    "                maxRange = r\n",
    "            Ranges.append(r)\n",
    "            Thetas.append(theta)\n",
    "\n",
    "    # Plot what we found - i.e. a triangle centred on lidar stretching out to 2 pts on  walls\n",
    "    # Work out size of canvs\n",
    "    maxRange = int(maxRange+1)\n",
    "    h = w = 2 * maxRange\n",
    "    cx = cy = maxRange\n",
    "    # Make blank canvas\n",
    "    im = np.zeros((h,w), np.uint8)\n",
    "    # Centre point, in every triangle\n",
    "    pt1 = (cy, cx)\n",
    "    # Join up last point with first to complete the circle\n",
    "    Ranges.append(Ranges[0])\n",
    "    Thetas.append(Thetas[0])\n",
    "    for i in range(1,len(Ranges)):\n",
    "        r = Ranges[i-1]\n",
    "        theta = np.deg2rad(Thetas[i-1])\n",
    "        x = r * np.sin(theta)\n",
    "        y = r * np.cos(theta)\n",
    "        pt2 = (cx + x, cy - y)\n",
    "        r = Ranges[i]\n",
    "        theta = np.deg2rad(Thetas[i])\n",
    "        x = r * np.sin(theta)\n",
    "        y = r * np.cos(theta)\n",
    "        pt3 = (cx + x, cy - y)\n",
    "        triangleCnt = np.array( [pt1, pt2, pt3] )\n",
    "        cv2.drawContours(im, [triangleCnt.astype(int)], 0, 255, -1)\n",
    "    cv2.imwrite('result.png', im)"
   ]
  },
  {
   "cell_type": "code",
   "execution_count": 8,
   "outputs": [],
   "source": [
    "def draw_h (image, cord, color=(0,255,0)):\n",
    "    out = image.copy()\n",
    "    print(cord[0])\n",
    "    h = out[cord[0]:cor]\n"
   ],
   "metadata": {
    "collapsed": false,
    "pycharm": {
     "name": "#%%\n",
     "is_executing": false
    }
   }
  },
  {
   "cell_type": "code",
   "execution_count": 9,
   "outputs": [
    {
     "name": "stdout",
     "text": [
      "50\n"
     ],
     "output_type": "stream"
    }
   ],
   "source": [
    "img = np.linspace(0,100,4).astype(np.int).reshape(2,2)\n",
    "#lt.imshow(img)\n",
    "\n",
    "cat = data.chelsea()\n",
    "draw_h(cat, (50,-50))"
   ],
   "metadata": {
    "collapsed": false,
    "pycharm": {
     "name": "#%%\n",
     "is_executing": false
    }
   }
  }
 ],
 "metadata": {
  "kernelspec": {
   "display_name": "Python 3",
   "language": "python",
   "name": "python3"
  },
  "language_info": {
   "codemirror_mode": {
    "name": "ipython",
    "version": 2
   },
   "file_extension": ".py",
   "mimetype": "text/x-python",
   "name": "python",
   "nbconvert_exporter": "python",
   "pygments_lexer": "ipython2",
   "version": "2.7.6"
  },
  "pycharm": {
   "stem_cell": {
    "cell_type": "raw",
    "source": [],
    "metadata": {
     "collapsed": false
    }
   }
  }
 },
 "nbformat": 4,
 "nbformat_minor": 0
}